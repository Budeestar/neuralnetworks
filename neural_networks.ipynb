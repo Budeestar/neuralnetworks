{
  "nbformat": 4,
  "nbformat_minor": 0,
  "metadata": {
    "colab": {
      "name": "neural networks.ipynb",
      "provenance": []
    },
    "kernelspec": {
      "name": "python3",
      "display_name": "Python 3"
    }
  },
  "cells": [
    {
      "cell_type": "code",
      "metadata": {
        "id": "R7f_8ZJr5ckp",
        "colab_type": "code",
        "colab": {}
      },
      "source": [
        "import numpy as np\n",
        "def sigmoid_array(x):\n",
        "  return 1/(1+np.exp(-x))"
      ],
      "execution_count": 0,
      "outputs": []
    },
    {
      "cell_type": "code",
      "metadata": {
        "id": "m18-qL44N2PB",
        "colab_type": "code",
        "colab": {}
      },
      "source": [
        "numbers=np.arange(-10,10)\n",
        "sigmoids=sigmoid_array(numbers)"
      ],
      "execution_count": 0,
      "outputs": []
    },
    {
      "cell_type": "code",
      "metadata": {
        "id": "RWLTIufKOWtP",
        "colab_type": "code",
        "outputId": "175d401b-e691-4302-da04-fdcd5687e216",
        "colab": {
          "base_uri": "https://localhost:8080/",
          "height": 265
        }
      },
      "source": [
        "import matplotlib.pyplot as plt\n",
        "fig,ax=plt.subplots()\n",
        "ax.plot(numbers,sigmoids)\n",
        "ax.grid(True)\n",
        "plt.show()"
      ],
      "execution_count": 0,
      "outputs": [
        {
          "output_type": "display_data",
          "data": {
            "image/png": "[encoded data removed]",
            "text/plain": [
              "<Figure size 432x288 with 1 Axes>"
            ]
          },
          "metadata": {
            "tags": [],
            "needs_background": "light"
          }
        }
      ]
    },
    {
      "cell_type": "code",
      "metadata": {
        "id": "W6rVpqI-OwbE",
        "colab_type": "code",
        "colab": {}
      },
      "source": [
        "#relu model\n",
        "def relu_array(x):\n",
        "  return np.maximum(0,x)"
      ],
      "execution_count": 0,
      "outputs": []
    },
    {
      "cell_type": "code",
      "metadata": {
        "id": "1EslyIDIQRAa",
        "colab_type": "code",
        "colab": {}
      },
      "source": [
        "numbers=np.arange(-10,5)\n",
        "relu=relu_array(numbers)"
      ],
      "execution_count": 0,
      "outputs": []
    },
    {
      "cell_type": "code",
      "metadata": {
        "id": "yPCu6zUIQdQQ",
        "colab_type": "code",
        "outputId": "07ccf0ad-2e99-4935-f3e1-2a23b83d19ff",
        "colab": {
          "base_uri": "https://localhost:8080/",
          "height": 265
        }
      },
      "source": [
        "import matplotlib.pyplot as plt\n",
        "fig,ax=plt.subplots()\n",
        "ax.plot(numbers,relu)\n",
        "ax.grid(True)\n",
        "plt.show()"
      ],
      "execution_count": 0,
      "outputs": [
        {
          "output_type": "display_data",
          "data": {
            "image/png": "[encoded data removed]",
            "text/plain": [
              "<Figure size 432x288 with 1 Axes>"
            ]
          },
          "metadata": {
            "tags": [],
            "needs_background": "light"
          }
        }
      ]
    },
    {
      "cell_type": "code",
      "metadata": {
        "id": "8oFf4swLQn_W",
        "colab_type": "code",
        "colab": {}
      },
      "source": [
        "from keras.datasets import mnist\n",
        "from keras import models\n",
        "from keras import layers\n",
        "from keras.utils import to_categorical\n"
      ],
      "execution_count": 0,
      "outputs": []
    },
    {
      "cell_type": "code",
      "metadata": {
        "id": "fKSB4S7eSXmI",
        "colab_type": "code",
        "colab": {}
      },
      "source": [
        "(train_images,train_labels),(test_images,test_labels)=mnist.load_data()"
      ],
      "execution_count": 0,
      "outputs": []
    },
    {
      "cell_type": "code",
      "metadata": {
        "id": "fpR1KOFbSyAy",
        "colab_type": "code",
        "colab": {}
      },
      "source": [
        "#stacking layers\n",
        "network=models.Sequential()"
      ],
      "execution_count": 0,
      "outputs": []
    },
    {
      "cell_type": "code",
      "metadata": {
        "id": "H6WuAHYpTKPF",
        "colab_type": "code",
        "colab": {}
      },
      "source": [
        "#dense layer=nodes are fully connected with the output layer nodes\n",
        "network.add(layers.Dense(784,activation=\"relu\",input_shape=(28*28,)))\n",
        "network.add(layers.Dense(784,activation=\"relu\",input_shape=(28*28,)))\n",
        "network.add(layers.Dense(10,activation='softmax'))\n"
      ],
      "execution_count": 0,
      "outputs": []
    },
    {
      "cell_type": "code",
      "metadata": {
        "id": "P7_IEW9QUK4B",
        "colab_type": "code",
        "colab": {}
      },
      "source": [
        "network.compile(optimizer='adam',loss='categorical_crossentropy',metrics=['accuracy'])\n"
      ],
      "execution_count": 0,
      "outputs": []
    },
    {
      "cell_type": "code",
      "metadata": {
        "id": "vVM9YwKlUpSK",
        "colab_type": "code",
        "colab": {}
      },
      "source": [
        "#neural network is done\n",
        "train_images=train_images.reshape((60000,28*28))\n",
        "train_images=train_images.astype('float32')/255\n",
        "test_images=test_images.reshape((10000,28*28))\n",
        "test_images=test_images.astype('float32')/255"
      ],
      "execution_count": 0,
      "outputs": []
    },
    {
      "cell_type": "code",
      "metadata": {
        "id": "uXKSmPgiVgKi",
        "colab_type": "code",
        "colab": {}
      },
      "source": [
        "train_labels=to_categorical(train_labels)\n",
        "test_labels=to_categorical(test_labels)"
      ],
      "execution_count": 0,
      "outputs": []
    },
    {
      "cell_type": "code",
      "metadata": {
        "id": "-33303GOVtTy",
        "colab_type": "code",
        "outputId": "86d65a5d-c5ab-40a2-99e0-dbf53e52ca78",
        "colab": {
          "base_uri": "https://localhost:8080/",
          "height": 202
        }
      },
      "source": [
        "network.fit(train_images,train_labels,epochs=5,batch_size=128)"
      ],
      "execution_count": 0,
      "outputs": [
        {
          "output_type": "stream",
          "text": [
            "Epoch 1/5\n",
            "60000/60000 [==============================] - 14s 229us/step - loss: 0.1994 - accuracy: 0.9416\n",
            "Epoch 2/5\n",
            "60000/60000 [==============================] - 14s 227us/step - loss: 0.0748 - accuracy: 0.9768\n",
            "Epoch 3/5\n",
            "60000/60000 [==============================] - 14s 227us/step - loss: 0.0466 - accuracy: 0.9850\n",
            "Epoch 4/5\n",
            "60000/60000 [==============================] - 14s 230us/step - loss: 0.0347 - accuracy: 0.9887\n",
            "Epoch 5/5\n",
            "60000/60000 [==============================] - 14s 229us/step - loss: 0.0261 - accuracy: 0.9912\n"
          ],
          "name": "stdout"
        },
        {
          "output_type": "execute_result",
          "data": {
            "text/plain": [
              "<keras.callbacks.callbacks.History at 0x7f6c302ff7f0>"
            ]
          },
          "metadata": {
            "tags": []
          },
          "execution_count": 36
        }
      ]
    },
    {
      "cell_type": "code",
      "metadata": {
        "id": "njfEucKGWQQC",
        "colab_type": "code",
        "outputId": "aa378613-a8cd-4d5c-8dfc-16bcc711a753",
        "colab": {
          "base_uri": "https://localhost:8080/",
          "height": 50
        }
      },
      "source": [
        "test_loss,test_acc=network.evaluate(test_images,test_labels)\n",
        "print('test_acc',test_acc,'test_loss',test_loss)"
      ],
      "execution_count": 0,
      "outputs": [
        {
          "output_type": "stream",
          "text": [
            "10000/10000 [==============================] - 1s 100us/step\n",
            "test_acc 0.979200005531311 test_loss 0.07583677761460131\n"
          ],
          "name": "stdout"
        }
      ]
    }
  ]
}